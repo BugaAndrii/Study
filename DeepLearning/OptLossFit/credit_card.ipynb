{
 "cells": [
  {
   "cell_type": "markdown",
   "id": "98cf73b9",
   "metadata": {},
   "source": [
    "# Credit Card Fraud Detection"
   ]
  },
  {
   "cell_type": "markdown",
   "id": "0bf554fe",
   "metadata": {},
   "source": [
    "## Imports"
   ]
  },
  {
   "cell_type": "code",
   "execution_count": 1,
   "id": "d65490d4",
   "metadata": {
    "scrolled": false,
    "tags": [
     "challengify"
    ]
   },
   "outputs": [
    {
     "name": "stdout",
     "output_type": "stream",
     "text": [
      "WARNING:tensorflow:From D:\\Programs\\JupyterNotebook\\env311\\Lib\\site-packages\\keras\\src\\losses.py:2976: The name tf.losses.sparse_softmax_cross_entropy is deprecated. Please use tf.compat.v1.losses.sparse_softmax_cross_entropy instead.\n",
      "\n"
     ]
    }
   ],
   "source": [
    "import pandas as pd\n",
    "from sklearn.model_selection import train_test_split\n",
    "from imblearn.over_sampling import SMOTE\n",
    "from imblearn.under_sampling import RandomUnderSampler\n",
    "from imblearn.pipeline import Pipeline\n",
    "from tensorflow.keras import Sequential\n",
    "from tensorflow.keras.layers import Dropout, Normalization, Dense, Normalization\n",
    "from tensorflow.keras.metrics import Recall, Precision, Accuracy, AUC\n",
    "from tensorflow.keras.callbacks import EarlyStopping\n",
    "from tensorflow.keras.optimizers import Adam\n",
    "from sklearn.metrics import confusion_matrix, classification_report\n",
    "import numpy as np\n",
    "from sklearn.metrics import precision_recall_curve\n",
    "import matplotlib.pyplot as plt\n",
    "import seaborn as sns"
   ]
  },
  {
   "cell_type": "code",
   "execution_count": 2,
   "id": "404a4171",
   "metadata": {},
   "outputs": [
    {
     "data": {
      "text/html": [
       "<div>\n",
       "<style scoped>\n",
       "    .dataframe tbody tr th:only-of-type {\n",
       "        vertical-align: middle;\n",
       "    }\n",
       "\n",
       "    .dataframe tbody tr th {\n",
       "        vertical-align: top;\n",
       "    }\n",
       "\n",
       "    .dataframe thead th {\n",
       "        text-align: right;\n",
       "    }\n",
       "</style>\n",
       "<table border=\"1\" class=\"dataframe\">\n",
       "  <thead>\n",
       "    <tr style=\"text-align: right;\">\n",
       "      <th></th>\n",
       "      <th>Time</th>\n",
       "      <th>V1</th>\n",
       "      <th>V2</th>\n",
       "      <th>V3</th>\n",
       "      <th>V4</th>\n",
       "      <th>V5</th>\n",
       "      <th>V6</th>\n",
       "      <th>V7</th>\n",
       "      <th>V8</th>\n",
       "      <th>V9</th>\n",
       "      <th>...</th>\n",
       "      <th>V21</th>\n",
       "      <th>V22</th>\n",
       "      <th>V23</th>\n",
       "      <th>V24</th>\n",
       "      <th>V25</th>\n",
       "      <th>V26</th>\n",
       "      <th>V27</th>\n",
       "      <th>V28</th>\n",
       "      <th>Amount</th>\n",
       "      <th>Class</th>\n",
       "    </tr>\n",
       "  </thead>\n",
       "  <tbody>\n",
       "    <tr>\n",
       "      <th>0</th>\n",
       "      <td>0.0</td>\n",
       "      <td>-1.359807</td>\n",
       "      <td>-0.072781</td>\n",
       "      <td>2.536347</td>\n",
       "      <td>1.378155</td>\n",
       "      <td>-0.338321</td>\n",
       "      <td>0.462388</td>\n",
       "      <td>0.239599</td>\n",
       "      <td>0.098698</td>\n",
       "      <td>0.363787</td>\n",
       "      <td>...</td>\n",
       "      <td>-0.018307</td>\n",
       "      <td>0.277838</td>\n",
       "      <td>-0.110474</td>\n",
       "      <td>0.066928</td>\n",
       "      <td>0.128539</td>\n",
       "      <td>-0.189115</td>\n",
       "      <td>0.133558</td>\n",
       "      <td>-0.021053</td>\n",
       "      <td>149.62</td>\n",
       "      <td>0</td>\n",
       "    </tr>\n",
       "    <tr>\n",
       "      <th>1</th>\n",
       "      <td>0.0</td>\n",
       "      <td>1.191857</td>\n",
       "      <td>0.266151</td>\n",
       "      <td>0.166480</td>\n",
       "      <td>0.448154</td>\n",
       "      <td>0.060018</td>\n",
       "      <td>-0.082361</td>\n",
       "      <td>-0.078803</td>\n",
       "      <td>0.085102</td>\n",
       "      <td>-0.255425</td>\n",
       "      <td>...</td>\n",
       "      <td>-0.225775</td>\n",
       "      <td>-0.638672</td>\n",
       "      <td>0.101288</td>\n",
       "      <td>-0.339846</td>\n",
       "      <td>0.167170</td>\n",
       "      <td>0.125895</td>\n",
       "      <td>-0.008983</td>\n",
       "      <td>0.014724</td>\n",
       "      <td>2.69</td>\n",
       "      <td>0</td>\n",
       "    </tr>\n",
       "    <tr>\n",
       "      <th>2</th>\n",
       "      <td>1.0</td>\n",
       "      <td>-1.358354</td>\n",
       "      <td>-1.340163</td>\n",
       "      <td>1.773209</td>\n",
       "      <td>0.379780</td>\n",
       "      <td>-0.503198</td>\n",
       "      <td>1.800499</td>\n",
       "      <td>0.791461</td>\n",
       "      <td>0.247676</td>\n",
       "      <td>-1.514654</td>\n",
       "      <td>...</td>\n",
       "      <td>0.247998</td>\n",
       "      <td>0.771679</td>\n",
       "      <td>0.909412</td>\n",
       "      <td>-0.689281</td>\n",
       "      <td>-0.327642</td>\n",
       "      <td>-0.139097</td>\n",
       "      <td>-0.055353</td>\n",
       "      <td>-0.059752</td>\n",
       "      <td>378.66</td>\n",
       "      <td>0</td>\n",
       "    </tr>\n",
       "    <tr>\n",
       "      <th>3</th>\n",
       "      <td>1.0</td>\n",
       "      <td>-0.966272</td>\n",
       "      <td>-0.185226</td>\n",
       "      <td>1.792993</td>\n",
       "      <td>-0.863291</td>\n",
       "      <td>-0.010309</td>\n",
       "      <td>1.247203</td>\n",
       "      <td>0.237609</td>\n",
       "      <td>0.377436</td>\n",
       "      <td>-1.387024</td>\n",
       "      <td>...</td>\n",
       "      <td>-0.108300</td>\n",
       "      <td>0.005274</td>\n",
       "      <td>-0.190321</td>\n",
       "      <td>-1.175575</td>\n",
       "      <td>0.647376</td>\n",
       "      <td>-0.221929</td>\n",
       "      <td>0.062723</td>\n",
       "      <td>0.061458</td>\n",
       "      <td>123.50</td>\n",
       "      <td>0</td>\n",
       "    </tr>\n",
       "    <tr>\n",
       "      <th>4</th>\n",
       "      <td>2.0</td>\n",
       "      <td>-1.158233</td>\n",
       "      <td>0.877737</td>\n",
       "      <td>1.548718</td>\n",
       "      <td>0.403034</td>\n",
       "      <td>-0.407193</td>\n",
       "      <td>0.095921</td>\n",
       "      <td>0.592941</td>\n",
       "      <td>-0.270533</td>\n",
       "      <td>0.817739</td>\n",
       "      <td>...</td>\n",
       "      <td>-0.009431</td>\n",
       "      <td>0.798278</td>\n",
       "      <td>-0.137458</td>\n",
       "      <td>0.141267</td>\n",
       "      <td>-0.206010</td>\n",
       "      <td>0.502292</td>\n",
       "      <td>0.219422</td>\n",
       "      <td>0.215153</td>\n",
       "      <td>69.99</td>\n",
       "      <td>0</td>\n",
       "    </tr>\n",
       "  </tbody>\n",
       "</table>\n",
       "<p>5 rows × 31 columns</p>\n",
       "</div>"
      ],
      "text/plain": [
       "   Time        V1        V2        V3        V4        V5        V6        V7  \\\n",
       "0   0.0 -1.359807 -0.072781  2.536347  1.378155 -0.338321  0.462388  0.239599   \n",
       "1   0.0  1.191857  0.266151  0.166480  0.448154  0.060018 -0.082361 -0.078803   \n",
       "2   1.0 -1.358354 -1.340163  1.773209  0.379780 -0.503198  1.800499  0.791461   \n",
       "3   1.0 -0.966272 -0.185226  1.792993 -0.863291 -0.010309  1.247203  0.237609   \n",
       "4   2.0 -1.158233  0.877737  1.548718  0.403034 -0.407193  0.095921  0.592941   \n",
       "\n",
       "         V8        V9  ...       V21       V22       V23       V24       V25  \\\n",
       "0  0.098698  0.363787  ... -0.018307  0.277838 -0.110474  0.066928  0.128539   \n",
       "1  0.085102 -0.255425  ... -0.225775 -0.638672  0.101288 -0.339846  0.167170   \n",
       "2  0.247676 -1.514654  ...  0.247998  0.771679  0.909412 -0.689281 -0.327642   \n",
       "3  0.377436 -1.387024  ... -0.108300  0.005274 -0.190321 -1.175575  0.647376   \n",
       "4 -0.270533  0.817739  ... -0.009431  0.798278 -0.137458  0.141267 -0.206010   \n",
       "\n",
       "        V26       V27       V28  Amount  Class  \n",
       "0 -0.189115  0.133558 -0.021053  149.62      0  \n",
       "1  0.125895 -0.008983  0.014724    2.69      0  \n",
       "2 -0.139097 -0.055353 -0.059752  378.66      0  \n",
       "3 -0.221929  0.062723  0.061458  123.50      0  \n",
       "4  0.502292  0.219422  0.215153   69.99      0  \n",
       "\n",
       "[5 rows x 31 columns]"
      ]
     },
     "execution_count": 2,
     "metadata": {},
     "output_type": "execute_result"
    }
   ],
   "source": [
    "# Load the dataset\n",
    "# url = \"https://wagon-public-datasets.s3.amazonaws.com/Machine%20Learning%20Datasets/creditcard.csv\"\n",
    "df = pd.read_csv(\"creditcard.csv\")\n",
    "df.head()"
   ]
  },
  {
   "cell_type": "code",
   "execution_count": 3,
   "id": "0ba612a1",
   "metadata": {},
   "outputs": [],
   "source": [
    "X = df.drop(columns=[\"Class\"], axis=1).values\n",
    "y = df[\"Class\"].values"
   ]
  },
  {
   "cell_type": "markdown",
   "id": "7b017adc",
   "metadata": {},
   "source": [
    "## 1. Rebalancing classes"
   ]
  },
  {
   "cell_type": "code",
   "execution_count": 4,
   "id": "bdada64d",
   "metadata": {
    "scrolled": true
   },
   "outputs": [
    {
     "data": {
      "text/plain": [
       "0    0.998273\n",
       "1    0.001727\n",
       "Name: proportion, dtype: float64"
      ]
     },
     "execution_count": 4,
     "metadata": {},
     "output_type": "execute_result"
    }
   ],
   "source": [
    "# Let's check class balance\n",
    "pd.Series(y).value_counts(normalize=True)"
   ]
  },
  {
   "cell_type": "code",
   "execution_count": 5,
   "id": "2d91d07a",
   "metadata": {},
   "outputs": [],
   "source": [
    "# Train test split before any resampling to keep real test set\n",
    "X_train, X_test, y_train, y_test = train_test_split(X, y, test_size=0.3)"
   ]
  },
  {
   "cell_type": "code",
   "execution_count": 6,
   "id": "d7fe116d",
   "metadata": {
    "tags": [
     "challengify"
    ]
   },
   "outputs": [],
   "source": [
    "X_train, X_val, y_train, y_val = train_test_split(X_train, y_train, test_size = 0.3)"
   ]
  },
  {
   "cell_type": "code",
   "execution_count": 7,
   "id": "bdbc5443",
   "metadata": {
    "scrolled": true
   },
   "outputs": [
    {
     "name": "stdout",
     "output_type": "stream",
     "text": [
      "X_train.shape = (139554, 30)\n",
      "y_train.shape = (139554,)\n",
      "X_val.shape = (59810, 30)\n",
      "y_val.shape = (59810,)\n",
      "X_test.shape = (85443, 30)\n",
      "y_test.shape = (85443,)\n"
     ]
    }
   ],
   "source": [
    "print(f'X_train.shape = {X_train.shape}')\n",
    "print(f'y_train.shape = {y_train.shape}')\n",
    "print(f'X_val.shape = {X_val.shape}')\n",
    "print(f'y_val.shape = {y_val.shape}')\n",
    "print(f'X_test.shape = {X_test.shape}')\n",
    "print(f'y_test.shape = {y_test.shape}')"
   ]
  },
  {
   "cell_type": "code",
   "execution_count": 8,
   "id": "a25b6ff3",
   "metadata": {},
   "outputs": [
    {
     "name": "stdout",
     "output_type": "stream",
     "text": [
      "244\n",
      "106\n",
      "142\n",
      "----------------------------------------------------------------------------------------------------\n",
      "There are 244 fraudulent transactions in the train set\n",
      "There are 106 fraudulent transactions in the val set\n",
      "There are 142 fraudulent transactions in the test set\n"
     ]
    }
   ],
   "source": [
    "print(np.sum(y_train[y_train == 1]))\n",
    "print(np.sum(y_val[y_val == 1]))\n",
    "print(np.sum(y_test[y_test == 1]))\n",
    "print('-'*100)\n",
    "print(f'There are {pd.Series(y_train).value_counts()[1]} fraudulent transactions in the train set')\n",
    "print(f'There are {pd.Series(y_val).value_counts()[1]} fraudulent transactions in the val set')\n",
    "print(f'There are {pd.Series(y_test).value_counts()[1]} fraudulent transactions in the test set')"
   ]
  },
  {
   "cell_type": "code",
   "execution_count": 9,
   "id": "97966362",
   "metadata": {
    "scrolled": false
   },
   "outputs": [],
   "source": [
    "#Sampling strategy\n",
    "over = SMOTE(sampling_strategy=0.2)\n",
    "under = RandomUnderSampler(sampling_strategy=0.8)"
   ]
  },
  {
   "cell_type": "code",
   "execution_count": 10,
   "id": "212db1a9",
   "metadata": {},
   "outputs": [
    {
     "data": {
      "text/html": [
       "<style>#sk-container-id-1 {color: black;}#sk-container-id-1 pre{padding: 0;}#sk-container-id-1 div.sk-toggleable {background-color: white;}#sk-container-id-1 label.sk-toggleable__label {cursor: pointer;display: block;width: 100%;margin-bottom: 0;padding: 0.3em;box-sizing: border-box;text-align: center;}#sk-container-id-1 label.sk-toggleable__label-arrow:before {content: \"▸\";float: left;margin-right: 0.25em;color: #696969;}#sk-container-id-1 label.sk-toggleable__label-arrow:hover:before {color: black;}#sk-container-id-1 div.sk-estimator:hover label.sk-toggleable__label-arrow:before {color: black;}#sk-container-id-1 div.sk-toggleable__content {max-height: 0;max-width: 0;overflow: hidden;text-align: left;background-color: #f0f8ff;}#sk-container-id-1 div.sk-toggleable__content pre {margin: 0.2em;color: black;border-radius: 0.25em;background-color: #f0f8ff;}#sk-container-id-1 input.sk-toggleable__control:checked~div.sk-toggleable__content {max-height: 200px;max-width: 100%;overflow: auto;}#sk-container-id-1 input.sk-toggleable__control:checked~label.sk-toggleable__label-arrow:before {content: \"▾\";}#sk-container-id-1 div.sk-estimator input.sk-toggleable__control:checked~label.sk-toggleable__label {background-color: #d4ebff;}#sk-container-id-1 div.sk-label input.sk-toggleable__control:checked~label.sk-toggleable__label {background-color: #d4ebff;}#sk-container-id-1 input.sk-hidden--visually {border: 0;clip: rect(1px 1px 1px 1px);clip: rect(1px, 1px, 1px, 1px);height: 1px;margin: -1px;overflow: hidden;padding: 0;position: absolute;width: 1px;}#sk-container-id-1 div.sk-estimator {font-family: monospace;background-color: #f0f8ff;border: 1px dotted black;border-radius: 0.25em;box-sizing: border-box;margin-bottom: 0.5em;}#sk-container-id-1 div.sk-estimator:hover {background-color: #d4ebff;}#sk-container-id-1 div.sk-parallel-item::after {content: \"\";width: 100%;border-bottom: 1px solid gray;flex-grow: 1;}#sk-container-id-1 div.sk-label:hover label.sk-toggleable__label {background-color: #d4ebff;}#sk-container-id-1 div.sk-serial::before {content: \"\";position: absolute;border-left: 1px solid gray;box-sizing: border-box;top: 0;bottom: 0;left: 50%;z-index: 0;}#sk-container-id-1 div.sk-serial {display: flex;flex-direction: column;align-items: center;background-color: white;padding-right: 0.2em;padding-left: 0.2em;position: relative;}#sk-container-id-1 div.sk-item {position: relative;z-index: 1;}#sk-container-id-1 div.sk-parallel {display: flex;align-items: stretch;justify-content: center;background-color: white;position: relative;}#sk-container-id-1 div.sk-item::before, #sk-container-id-1 div.sk-parallel-item::before {content: \"\";position: absolute;border-left: 1px solid gray;box-sizing: border-box;top: 0;bottom: 0;left: 50%;z-index: -1;}#sk-container-id-1 div.sk-parallel-item {display: flex;flex-direction: column;z-index: 1;position: relative;background-color: white;}#sk-container-id-1 div.sk-parallel-item:first-child::after {align-self: flex-end;width: 50%;}#sk-container-id-1 div.sk-parallel-item:last-child::after {align-self: flex-start;width: 50%;}#sk-container-id-1 div.sk-parallel-item:only-child::after {width: 0;}#sk-container-id-1 div.sk-dashed-wrapped {border: 1px dashed gray;margin: 0 0.4em 0.5em 0.4em;box-sizing: border-box;padding-bottom: 0.4em;background-color: white;}#sk-container-id-1 div.sk-label label {font-family: monospace;font-weight: bold;display: inline-block;line-height: 1.2em;}#sk-container-id-1 div.sk-label-container {text-align: center;}#sk-container-id-1 div.sk-container {/* jupyter's `normalize.less` sets `[hidden] { display: none; }` but bootstrap.min.css set `[hidden] { display: none !important; }` so we also need the `!important` here to be able to override the default hidden behavior on the sphinx rendered scikit-learn.org. See: https://github.com/scikit-learn/scikit-learn/issues/21755 */display: inline-block !important;position: relative;}#sk-container-id-1 div.sk-text-repr-fallback {display: none;}</style><div id=\"sk-container-id-1\" class=\"sk-top-container\"><div class=\"sk-text-repr-fallback\"><pre>Pipeline(steps=[(&#x27;o&#x27;, SMOTE(sampling_strategy=0.2)),\n",
       "                (&#x27;u&#x27;, RandomUnderSampler(sampling_strategy=0.8))])</pre><b>In a Jupyter environment, please rerun this cell to show the HTML representation or trust the notebook. <br />On GitHub, the HTML representation is unable to render, please try loading this page with nbviewer.org.</b></div><div class=\"sk-container\" hidden><div class=\"sk-item sk-dashed-wrapped\"><div class=\"sk-label-container\"><div class=\"sk-label sk-toggleable\"><input class=\"sk-toggleable__control sk-hidden--visually\" id=\"sk-estimator-id-1\" type=\"checkbox\" ><label for=\"sk-estimator-id-1\" class=\"sk-toggleable__label sk-toggleable__label-arrow\">Pipeline</label><div class=\"sk-toggleable__content\"><pre>Pipeline(steps=[(&#x27;o&#x27;, SMOTE(sampling_strategy=0.2)),\n",
       "                (&#x27;u&#x27;, RandomUnderSampler(sampling_strategy=0.8))])</pre></div></div></div><div class=\"sk-serial\"><div class=\"sk-item\"><div class=\"sk-estimator sk-toggleable\"><input class=\"sk-toggleable__control sk-hidden--visually\" id=\"sk-estimator-id-2\" type=\"checkbox\" ><label for=\"sk-estimator-id-2\" class=\"sk-toggleable__label sk-toggleable__label-arrow\">SMOTE</label><div class=\"sk-toggleable__content\"><pre>SMOTE(sampling_strategy=0.2)</pre></div></div></div><div class=\"sk-item\"><div class=\"sk-estimator sk-toggleable\"><input class=\"sk-toggleable__control sk-hidden--visually\" id=\"sk-estimator-id-3\" type=\"checkbox\" ><label for=\"sk-estimator-id-3\" class=\"sk-toggleable__label sk-toggleable__label-arrow\">RandomUnderSampler</label><div class=\"sk-toggleable__content\"><pre>RandomUnderSampler(sampling_strategy=0.8)</pre></div></div></div></div></div></div></div>"
      ],
      "text/plain": [
       "Pipeline(steps=[('o', SMOTE(sampling_strategy=0.2)),\n",
       "                ('u', RandomUnderSampler(sampling_strategy=0.8))])"
      ]
     },
     "execution_count": 10,
     "metadata": {},
     "output_type": "execute_result"
    }
   ],
   "source": [
    "steps = [('o', over), ('u' , under)]\n",
    "pipeline = Pipeline(steps)\n",
    "pipeline"
   ]
  },
  {
   "cell_type": "code",
   "execution_count": 11,
   "id": "4a682900",
   "metadata": {},
   "outputs": [
    {
     "name": "stdout",
     "output_type": "stream",
     "text": [
      "X_train_resampled.shape = (62689, 30)\n",
      "y_train_resampled.shape = (62689,)\n"
     ]
    }
   ],
   "source": [
    "X_train_resampled, y_train_resampled = pipeline.fit_resample(X_train, y_train)\n",
    "print(f'X_train_resampled.shape = {X_train_resampled.shape}')\n",
    "print(f'y_train_resampled.shape = {y_train_resampled.shape}')"
   ]
  },
  {
   "cell_type": "code",
   "execution_count": 12,
   "id": "b3332570",
   "metadata": {},
   "outputs": [],
   "source": [
    "# pd.Series(y_train_resampled).value_counts(normalize=True)"
   ]
  },
  {
   "cell_type": "code",
   "execution_count": 13,
   "id": "4bcd5113",
   "metadata": {},
   "outputs": [],
   "source": [
    "stacked_resampled_data = np.hstack([X_train_resampled, y_train_resampled.reshape(-1, 1)])\n",
    "np.random.shuffle(stacked_resampled_data)"
   ]
  },
  {
   "cell_type": "code",
   "execution_count": 14,
   "id": "cba63086",
   "metadata": {
    "scrolled": false
   },
   "outputs": [],
   "source": [
    "X_train_resampled = stacked_resampled_data[:, :30]\n",
    "y_train_resampled = stacked_resampled_data[:,-1]"
   ]
  },
  {
   "cell_type": "markdown",
   "id": "cb823bdc",
   "metadata": {},
   "source": [
    "## 2. Neural Network iterations"
   ]
  },
  {
   "cell_type": "code",
   "execution_count": 15,
   "id": "119db566",
   "metadata": {},
   "outputs": [],
   "source": [
    "def initialize_model():\n",
    "    # Normalization\n",
    "    normalizer = Normalization()\n",
    "    normalizer.adapt(X_train_resampled)\n",
    "    \n",
    "    # Model Architecture\n",
    "    model = Sequential()\n",
    "    model.add(normalizer)\n",
    "    model.add(Dense(32, activation='relu', input_dim=X_train_resampled.shape[1:]))\n",
    "    model.add(Dropout(0.3))\n",
    "    model.add(Dense(16, activation='relu'))\n",
    "    model.add(Dropout(0.3))\n",
    "    model.add(Dense(8,activation='relu'))\n",
    "    model.add(Dropout(0.3))\n",
    "    model.add(Dense(1, activation='sigmoid'))\n",
    "    \n",
    "    # Metrics\n",
    "    metrics = [\n",
    "        Recall(name='recall'),\n",
    "        Precision(name='precision'),\n",
    "        AUC(name='prc',curve='PR')\n",
    "    ]\n",
    "    # Model Compilation\n",
    "    model.compile(\n",
    "        optimizer=Adam(lr=0.0001),\n",
    "        loss='binary_crossentropy',\n",
    "        metrics=metrics\n",
    "    )\n",
    "    return model"
   ]
  },
  {
   "cell_type": "code",
   "execution_count": 16,
   "id": "fd696ece",
   "metadata": {},
   "outputs": [
    {
     "name": "stdout",
     "output_type": "stream",
     "text": [
      "WARNING:tensorflow:From D:\\Programs\\JupyterNotebook\\env311\\Lib\\site-packages\\keras\\src\\backend.py:873: The name tf.get_default_graph is deprecated. Please use tf.compat.v1.get_default_graph instead.\n",
      "\n"
     ]
    },
    {
     "name": "stderr",
     "output_type": "stream",
     "text": [
      "WARNING:absl:`lr` is deprecated in Keras optimizer, please use `learning_rate` or use the legacy optimizer, e.g.,tf.keras.optimizers.legacy.Adam.\n"
     ]
    }
   ],
   "source": [
    "model = initialize_model()"
   ]
  },
  {
   "cell_type": "code",
   "execution_count": 17,
   "id": "f4f75af4",
   "metadata": {
    "scrolled": false
   },
   "outputs": [
    {
     "name": "stdout",
     "output_type": "stream",
     "text": [
      "Epoch 1/100\n",
      "WARNING:tensorflow:From D:\\Programs\\JupyterNotebook\\env311\\Lib\\site-packages\\keras\\src\\utils\\tf_utils.py:492: The name tf.ragged.RaggedTensorValue is deprecated. Please use tf.compat.v1.ragged.RaggedTensorValue instead.\n",
      "\n"
     ]
    },
    {
     "name": "stderr",
     "output_type": "stream",
     "text": [
      "WARNING:tensorflow:From D:\\Programs\\JupyterNotebook\\env311\\Lib\\site-packages\\keras\\src\\utils\\tf_utils.py:492: The name tf.ragged.RaggedTensorValue is deprecated. Please use tf.compat.v1.ragged.RaggedTensorValue instead.\n",
      "\n"
     ]
    },
    {
     "name": "stdout",
     "output_type": "stream",
     "text": [
      "980/980 [==============================] - 11s 7ms/step - loss: 0.2145 - recall: 0.8840 - precision: 0.9208 - prc: 0.9703 - val_loss: 0.0379 - val_recall: 0.9434 - val_precision: 0.1631 - val_prc: 0.7313\n",
      "Epoch 2/100\n",
      "980/980 [==============================] - 5s 5ms/step - loss: 0.0942 - recall: 0.9567 - precision: 0.9779 - prc: 0.9931 - val_loss: 0.0378 - val_recall: 0.9434 - val_precision: 0.1302 - val_prc: 0.7433\n",
      "Epoch 3/100\n",
      "980/980 [==============================] - 5s 5ms/step - loss: 0.0716 - recall: 0.9711 - precision: 0.9815 - prc: 0.9960 - val_loss: 0.0286 - val_recall: 0.9340 - val_precision: 0.1569 - val_prc: 0.7571\n",
      "Epoch 4/100\n",
      "980/980 [==============================] - 5s 5ms/step - loss: 0.0590 - recall: 0.9783 - precision: 0.9827 - prc: 0.9972 - val_loss: 0.0217 - val_recall: 0.9434 - val_precision: 0.2037 - val_prc: 0.7705\n",
      "Epoch 5/100\n",
      "980/980 [==============================] - 5s 5ms/step - loss: 0.0487 - recall: 0.9834 - precision: 0.9854 - prc: 0.9976 - val_loss: 0.0215 - val_recall: 0.9434 - val_precision: 0.2092 - val_prc: 0.7651\n",
      "Epoch 6/100\n",
      "980/980 [==============================] - 5s 5ms/step - loss: 0.0468 - recall: 0.9839 - precision: 0.9859 - prc: 0.9980 - val_loss: 0.0238 - val_recall: 0.9340 - val_precision: 0.1847 - val_prc: 0.7718\n",
      "Epoch 7/100\n",
      "980/980 [==============================] - 5s 5ms/step - loss: 0.0417 - recall: 0.9873 - precision: 0.9870 - prc: 0.9985 - val_loss: 0.0192 - val_recall: 0.9434 - val_precision: 0.2463 - val_prc: 0.7792\n",
      "Epoch 8/100\n",
      "980/980 [==============================] - 5s 5ms/step - loss: 0.0362 - recall: 0.9878 - precision: 0.9889 - prc: 0.9987 - val_loss: 0.0199 - val_recall: 0.9245 - val_precision: 0.2685 - val_prc: 0.7713\n",
      "Epoch 9/100\n",
      "980/980 [==============================] - 5s 5ms/step - loss: 0.0377 - recall: 0.9883 - precision: 0.9878 - prc: 0.9988 - val_loss: 0.0169 - val_recall: 0.9340 - val_precision: 0.3183 - val_prc: 0.7784\n",
      "Epoch 10/100\n",
      "980/980 [==============================] - 5s 5ms/step - loss: 0.0330 - recall: 0.9896 - precision: 0.9900 - prc: 0.9989 - val_loss: 0.0174 - val_recall: 0.9245 - val_precision: 0.3091 - val_prc: 0.7807\n",
      "Epoch 11/100\n",
      "980/980 [==============================] - 5s 5ms/step - loss: 0.0324 - recall: 0.9910 - precision: 0.9901 - prc: 0.9987 - val_loss: 0.0160 - val_recall: 0.9245 - val_precision: 0.3034 - val_prc: 0.7810\n",
      "Epoch 12/100\n",
      "980/980 [==============================] - 5s 5ms/step - loss: 0.0320 - recall: 0.9908 - precision: 0.9904 - prc: 0.9988 - val_loss: 0.0183 - val_recall: 0.9245 - val_precision: 0.2642 - val_prc: 0.7673\n",
      "Epoch 13/100\n",
      "980/980 [==============================] - 5s 5ms/step - loss: 0.0325 - recall: 0.9910 - precision: 0.9905 - prc: 0.9987 - val_loss: 0.0133 - val_recall: 0.9151 - val_precision: 0.3896 - val_prc: 0.7788\n",
      "Epoch 14/100\n",
      "980/980 [==============================] - 5s 5ms/step - loss: 0.0295 - recall: 0.9913 - precision: 0.9905 - prc: 0.9989 - val_loss: 0.0128 - val_recall: 0.9151 - val_precision: 0.4491 - val_prc: 0.7781\n",
      "Epoch 15/100\n",
      "980/980 [==============================] - 5s 5ms/step - loss: 0.0271 - recall: 0.9917 - precision: 0.9914 - prc: 0.9990 - val_loss: 0.0154 - val_recall: 0.9151 - val_precision: 0.3606 - val_prc: 0.7730\n",
      "Epoch 16/100\n",
      "980/980 [==============================] - 5s 5ms/step - loss: 0.0281 - recall: 0.9922 - precision: 0.9917 - prc: 0.9991 - val_loss: 0.0142 - val_recall: 0.9245 - val_precision: 0.3525 - val_prc: 0.7874\n",
      "Epoch 17/100\n",
      "980/980 [==============================] - 5s 5ms/step - loss: 0.0271 - recall: 0.9926 - precision: 0.9919 - prc: 0.9990 - val_loss: 0.0135 - val_recall: 0.9151 - val_precision: 0.4330 - val_prc: 0.7759\n",
      "Epoch 18/100\n",
      "980/980 [==============================] - 5s 5ms/step - loss: 0.0260 - recall: 0.9926 - precision: 0.9924 - prc: 0.9988 - val_loss: 0.0133 - val_recall: 0.9151 - val_precision: 0.4199 - val_prc: 0.7773\n",
      "Epoch 19/100\n",
      "980/980 [==============================] - 5s 5ms/step - loss: 0.0243 - recall: 0.9931 - precision: 0.9928 - prc: 0.9991 - val_loss: 0.0128 - val_recall: 0.9245 - val_precision: 0.4757 - val_prc: 0.7962\n",
      "Epoch 20/100\n",
      "980/980 [==============================] - 5s 5ms/step - loss: 0.0257 - recall: 0.9928 - precision: 0.9928 - prc: 0.9992 - val_loss: 0.0129 - val_recall: 0.9245 - val_precision: 0.3952 - val_prc: 0.7868\n",
      "Epoch 21/100\n",
      "980/980 [==============================] - 5s 5ms/step - loss: 0.0244 - recall: 0.9928 - precision: 0.9930 - prc: 0.9989 - val_loss: 0.0127 - val_recall: 0.9151 - val_precision: 0.4350 - val_prc: 0.7841\n",
      "Epoch 22/100\n",
      "980/980 [==============================] - 5s 5ms/step - loss: 0.0246 - recall: 0.9930 - precision: 0.9928 - prc: 0.9991 - val_loss: 0.0116 - val_recall: 0.9151 - val_precision: 0.5160 - val_prc: 0.7808\n",
      "Epoch 23/100\n",
      "980/980 [==============================] - 5s 5ms/step - loss: 0.0243 - recall: 0.9928 - precision: 0.9932 - prc: 0.9990 - val_loss: 0.0107 - val_recall: 0.9057 - val_precision: 0.4800 - val_prc: 0.8139\n",
      "Epoch 24/100\n",
      "980/980 [==============================] - 5s 5ms/step - loss: 0.0235 - recall: 0.9932 - precision: 0.9931 - prc: 0.9992 - val_loss: 0.0107 - val_recall: 0.9151 - val_precision: 0.5243 - val_prc: 0.8080\n",
      "Epoch 25/100\n",
      "980/980 [==============================] - 5s 5ms/step - loss: 0.0226 - recall: 0.9930 - precision: 0.9936 - prc: 0.9989 - val_loss: 0.0140 - val_recall: 0.9151 - val_precision: 0.4145 - val_prc: 0.7548\n",
      "Epoch 26/100\n",
      "980/980 [==============================] - 5s 5ms/step - loss: 0.0248 - recall: 0.9926 - precision: 0.9931 - prc: 0.9990 - val_loss: 0.0109 - val_recall: 0.9151 - val_precision: 0.5052 - val_prc: 0.7820\n",
      "Epoch 27/100\n",
      "980/980 [==============================] - 5s 5ms/step - loss: 0.0215 - recall: 0.9930 - precision: 0.9939 - prc: 0.9989 - val_loss: 0.0121 - val_recall: 0.9057 - val_precision: 0.5246 - val_prc: 0.7694\n",
      "Epoch 28/100\n",
      "980/980 [==============================] - 5s 5ms/step - loss: 0.0230 - recall: 0.9928 - precision: 0.9944 - prc: 0.9992 - val_loss: 0.0111 - val_recall: 0.9057 - val_precision: 0.4974 - val_prc: 0.7880\n",
      "Epoch 29/100\n",
      "980/980 [==============================] - 5s 5ms/step - loss: 0.0219 - recall: 0.9931 - precision: 0.9939 - prc: 0.9992 - val_loss: 0.0123 - val_recall: 0.8962 - val_precision: 0.4358 - val_prc: 0.7789\n",
      "Epoch 30/100\n",
      "980/980 [==============================] - 5s 5ms/step - loss: 0.0212 - recall: 0.9926 - precision: 0.9944 - prc: 0.9992 - val_loss: 0.0134 - val_recall: 0.9057 - val_precision: 0.4507 - val_prc: 0.7540\n",
      "Epoch 31/100\n",
      "980/980 [==============================] - 5s 5ms/step - loss: 0.0220 - recall: 0.9934 - precision: 0.9950 - prc: 0.9989 - val_loss: 0.0111 - val_recall: 0.8962 - val_precision: 0.5864 - val_prc: 0.7647\n",
      "Epoch 32/100\n",
      "980/980 [==============================] - 5s 5ms/step - loss: 0.0203 - recall: 0.9939 - precision: 0.9944 - prc: 0.9991 - val_loss: 0.0117 - val_recall: 0.8962 - val_precision: 0.5901 - val_prc: 0.7721\n",
      "Epoch 33/100\n",
      "980/980 [==============================] - 5s 5ms/step - loss: 0.0223 - recall: 0.9932 - precision: 0.9940 - prc: 0.9989 - val_loss: 0.0131 - val_recall: 0.9151 - val_precision: 0.4254 - val_prc: 0.7934\n",
      "Epoch 34/100\n",
      "980/980 [==============================] - 5s 5ms/step - loss: 0.0213 - recall: 0.9934 - precision: 0.9950 - prc: 0.9990 - val_loss: 0.0108 - val_recall: 0.9057 - val_precision: 0.5486 - val_prc: 0.7963\n",
      "Epoch 35/100\n",
      "980/980 [==============================] - 5s 5ms/step - loss: 0.0209 - recall: 0.9928 - precision: 0.9950 - prc: 0.9991 - val_loss: 0.0097 - val_recall: 0.9057 - val_precision: 0.5581 - val_prc: 0.8002\n",
      "Epoch 36/100\n",
      "980/980 [==============================] - 5s 5ms/step - loss: 0.0192 - recall: 0.9930 - precision: 0.9950 - prc: 0.9990 - val_loss: 0.0110 - val_recall: 0.9151 - val_precision: 0.5419 - val_prc: 0.8045\n",
      "Epoch 37/100\n",
      "980/980 [==============================] - 5s 5ms/step - loss: 0.0210 - recall: 0.9926 - precision: 0.9945 - prc: 0.9991 - val_loss: 0.0099 - val_recall: 0.9057 - val_precision: 0.5680 - val_prc: 0.8093\n",
      "Epoch 38/100\n",
      "980/980 [==============================] - 5s 5ms/step - loss: 0.0198 - recall: 0.9938 - precision: 0.9955 - prc: 0.9990 - val_loss: 0.0095 - val_recall: 0.8962 - val_precision: 0.5864 - val_prc: 0.7845\n",
      "Epoch 39/100\n"
     ]
    },
    {
     "name": "stdout",
     "output_type": "stream",
     "text": [
      "980/980 [==============================] - 5s 5ms/step - loss: 0.0211 - recall: 0.9930 - precision: 0.9949 - prc: 0.9989 - val_loss: 0.0102 - val_recall: 0.8962 - val_precision: 0.5828 - val_prc: 0.7787\n"
     ]
    }
   ],
   "source": [
    "# EarlyStoping strategy \n",
    "es = EarlyStopping(\n",
    "    patience=10,\n",
    "    monitor='val_recall',\n",
    "    restore_best_weights=True\n",
    ")\n",
    "# Training model\n",
    "history = model.fit(\n",
    "    X_train_resampled,\n",
    "    y_train_resampled,\n",
    "    validation_data=(X_val, y_val),\n",
    "    epochs=100,\n",
    "    batch_size=64,\n",
    "    callbacks=[es],\n",
    "    shuffle=True,\n",
    ")"
   ]
  },
  {
   "cell_type": "code",
   "execution_count": 18,
   "id": "e5490144",
   "metadata": {},
   "outputs": [],
   "source": [
    "def plot_loss_precision_recall_curve(history):\n",
    "    \n",
    "    fig, ax =plt.subplots(1, 3, figsize=(20, 5))\n",
    "    \n",
    "    # --- LOSS\n",
    "    ax[0].plot(history.history['loss'])\n",
    "    ax[0].plot(history.history['val_loss'])\n",
    "    ax[0].set_title('Model loss')\n",
    "    ax[0].set_xlabel('Epoch')\n",
    "    ax[0].set_ylabel('Loss')\n",
    "    ax[0].legend(['Train', 'Val'], loc='upper right')\n",
    "    ax[0].grid(axis=\"x\", linewidth=0.5)\n",
    "    ax[0].grid(axis=\"y\", linewidth=0.5)\n",
    "    \n",
    "    # --- RECALL\n",
    "    ax[1].plot(history.history['recall'])\n",
    "    ax[1].plot(history.history['val_recall'])\n",
    "    ax[1].set_title('Model recall', fontsize = 18)\n",
    "    ax[1].set_xlabel('Epoch', fontsize = 14)\n",
    "    ax[1].set_ylabel('Recall', fontsize = 14)\n",
    "    ax[1].legend(['Train', 'Val'], loc='lower right') \n",
    "    ax[1].grid(axis=\"x\", linewidth=0.5)\n",
    "    ax[1].grid(axis=\"y\", linewidth=0.5)\n",
    "    \n",
    "    # --- PRECISION\n",
    "    ax[2].plot(history.history['precision'])\n",
    "    ax[2].plot(history.history['val_precision'])\n",
    "    ax[2].set_title('Model precision', fontsize = 18)\n",
    "    ax[2].set_xlabel('Epoch', fontsize = 14)\n",
    "    ax[2].set_ylabel('Precision', fontsize = 14)\n",
    "    ax[2].legend(['Train', 'Val'], loc='lower right')  \n",
    "    ax[2].grid(axis=\"x\", linewidth=0.5)\n",
    "    ax[2].grid(axis=\"y\", linewidth=0.5)    \n",
    "\n",
    "    plt.show();"
   ]
  },
  {
   "cell_type": "code",
   "execution_count": 19,
   "id": "dc573f8c",
   "metadata": {},
   "outputs": [
    {
     "data": {
      "image/png": "[encoded data removed]",
      "text/plain": [
       "<Figure size 2000x500 with 3 Axes>"
      ]
     },
     "metadata": {},
     "output_type": "display_data"
    }
   ],
   "source": [
    "plot_loss_precision_recall_curve(history)"
   ]
  },
  {
   "cell_type": "code",
   "execution_count": 20,
   "id": "081933ac",
   "metadata": {
    "scrolled": false
   },
   "outputs": [
    {
     "name": "stdout",
     "output_type": "stream",
     "text": [
      "2671/2671 [==============================] - 5s 2ms/step - loss: 0.0143 - recall: 0.8521 - precision: 0.3967 - prc: 0.6903\n"
     ]
    },
    {
     "data": {
      "text/plain": [
       "{'loss': 0.014305033721029758,\n",
       " 'recall': 0.8521126508712769,\n",
       " 'precision': 0.3967213034629822,\n",
       " 'prc': 0.6902826428413391}"
      ]
     },
     "execution_count": 20,
     "metadata": {},
     "output_type": "execute_result"
    }
   ],
   "source": [
    "model.evaluate(X_test, y_test ,return_dict=True)"
   ]
  },
  {
   "cell_type": "code",
   "execution_count": 21,
   "id": "ebc3e2ac",
   "metadata": {},
   "outputs": [
    {
     "name": "stdout",
     "output_type": "stream",
     "text": [
      "2671/2671 [==============================] - 5s 2ms/step\n"
     ]
    }
   ],
   "source": [
    "y_pred_proba = model.predict(X_test)"
   ]
  },
  {
   "cell_type": "code",
   "execution_count": 22,
   "id": "f7b76ed6",
   "metadata": {},
   "outputs": [],
   "source": [
    "treshold = 0.5\n",
    "y_pred_binary = np.where(y_pred_proba > treshold, 1, 0)"
   ]
  },
  {
   "cell_type": "code",
   "execution_count": 23,
   "id": "642a7da0",
   "metadata": {},
   "outputs": [],
   "source": [
    "cm = confusion_matrix(y_test, y_pred_binary)"
   ]
  },
  {
   "cell_type": "code",
   "execution_count": 24,
   "id": "0a430785",
   "metadata": {
    "scrolled": false
   },
   "outputs": [
    {
     "data": {
      "text/plain": [
       "Text(0.5, 25.722222222222214, 'Predicted label')"
      ]
     },
     "execution_count": 24,
     "metadata": {},
     "output_type": "execute_result"
    },
    {
     "data": {
      "image/png": "[encoded data removed]",
      "text/plain": [
       "<Figure size 500x500 with 2 Axes>"
      ]
     },
     "metadata": {},
     "output_type": "display_data"
    }
   ],
   "source": [
    "plt.figure(figsize=(5,5))\n",
    "sns.heatmap(cm, annot=True, fmt=\"d\",cmap='coolwarm')\n",
    "plt.title('Confusion matrix')\n",
    "plt.ylabel('Actual label')\n",
    "plt.xlabel('Predicted label')"
   ]
  },
  {
   "cell_type": "code",
   "execution_count": 25,
   "id": "2acc2e01",
   "metadata": {
    "scrolled": true
   },
   "outputs": [
    {
     "name": "stdout",
     "output_type": "stream",
     "text": [
      "              precision    recall  f1-score   support\n",
      "\n",
      "           0       1.00      1.00      1.00     85301\n",
      "           1       0.40      0.85      0.54       142\n",
      "\n",
      "    accuracy                           1.00     85443\n",
      "   macro avg       0.70      0.92      0.77     85443\n",
      "weighted avg       1.00      1.00      1.00     85443\n",
      "\n"
     ]
    }
   ],
   "source": [
    "print(classification_report(y_test,y_pred_binary))"
   ]
  },
  {
   "cell_type": "code",
   "execution_count": 26,
   "id": "7738c1d0",
   "metadata": {},
   "outputs": [],
   "source": [
    "def plot_prc(name, labels, predictions, **kwargs):\n",
    "    precision, recall, _ = precision_recall_curve(labels, predictions)\n",
    "    plt.plot(recall, precision, label=name, linewidth=2, **kwargs)\n",
    "    plt.xlabel('Recall')\n",
    "    plt.ylabel('Precision')\n",
    "    plt.grid(True)\n",
    "    ax = plt.gca()\n",
    "    ax.set_aspect('equal')"
   ]
  },
  {
   "cell_type": "code",
   "execution_count": 27,
   "id": "a075a041",
   "metadata": {},
   "outputs": [
    {
     "data": {
      "image/png": "[encoded data removed]",
      "text/plain": [
       "<Figure size 640x480 with 1 Axes>"
      ]
     },
     "metadata": {},
     "output_type": "display_data"
    }
   ],
   "source": [
    "plot_prc('Test', y_test, y_pred_proba, linestyle='--')\n",
    "plt.legend(loc='lower right');"
   ]
  }
 ],
 "metadata": {
  "kernelspec": {
   "display_name": "Python 3 (ipykernel)",
   "language": "python",
   "name": "python3"
  },
  "language_info": {
   "codemirror_mode": {
    "name": "ipython",
    "version": 3
   },
   "file_extension": ".py",
   "mimetype": "text/x-python",
   "name": "python",
   "nbconvert_exporter": "python",
   "pygments_lexer": "ipython3",
   "version": "3.11.6"
  },
  "toc": {
   "base_numbering": 1,
   "nav_menu": {},
   "number_sections": true,
   "sideBar": true,
   "skip_h1_title": false,
   "title_cell": "Table of Contents",
   "title_sidebar": "Contents",
   "toc_cell": false,
   "toc_position": {},
   "toc_section_display": true,
   "toc_window_display": false
  }
 },
 "nbformat": 4,
 "nbformat_minor": 5
}
