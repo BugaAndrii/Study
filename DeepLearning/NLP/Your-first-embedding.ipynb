{
 "cells": [
  {
   "cell_type": "markdown",
   "metadata": {},
   "source": [
    "# Your first embedding"
   ]
  },
  {
   "cell_type": "markdown",
   "metadata": {},
   "source": [
    "## Imports"
   ]
  },
  {
   "cell_type": "code",
   "execution_count": 1,
   "metadata": {
    "scrolled": true
   },
   "outputs": [
    {
     "name": "stdout",
     "output_type": "stream",
     "text": [
      "WARNING:tensorflow:From D:\\Programs\\JupyterNotebook\\env311\\Lib\\site-packages\\keras\\src\\losses.py:2976: The name tf.losses.sparse_softmax_cross_entropy is deprecated. Please use tf.compat.v1.losses.sparse_softmax_cross_entropy instead.\n",
      "\n"
     ]
    }
   ],
   "source": [
    "import tensorflow_datasets as tfds\n",
    "from tensorflow.keras.preprocessing.text import text_to_word_sequence\n",
    "from tensorflow.keras.preprocessing.text import Tokenizer\n",
    "from tensorflow.keras.preprocessing.sequence import pad_sequences\n",
    "from tensorflow.keras import Sequential, layers\n",
    "from tensorflow.keras.callbacks import EarlyStopping\n",
    "import matplotlib.pyplot as plt\n",
    "%matplotlib inline"
   ]
  },
  {
   "cell_type": "markdown",
   "metadata": {},
   "source": [
    "## Exercise objectives:"
   ]
  },
  {
   "cell_type": "markdown",
   "metadata": {},
   "source": [
    "- Run your first RNN for NLP\n",
    "- Get a first taste of what an embedding is"
   ]
  },
  {
   "cell_type": "markdown",
   "metadata": {},
   "source": [
    "# The data"
   ]
  },
  {
   "cell_type": "code",
   "execution_count": 2,
   "metadata": {},
   "outputs": [],
   "source": [
    "def load_data(percentage_of_sentences=None):\n",
    "    train_data, test_data = tfds.load(name=\"s\", split=[\"train\", \"test\"], batch_size=-1, as_supervised=True)\n",
    "\n",
    "    train_sentences, y_train = tfds.as_numpy(train_data)\n",
    "    test_sentences, y_test = tfds.as_numpy(test_data)\n",
    "    \n",
    "    # Take only a given percentage of the entire data\n",
    "    if percentage_of_sentences is not None:\n",
    "        assert(percentage_of_sentences> 0 and percentage_of_sentences<=100)\n",
    "        \n",
    "        len_train = int(percentage_of_sentences/100*len(train_sentences))\n",
    "        train_sentences, y_train = train_sentences[:len_train], y_train[:len_train]\n",
    "        len_test = int(percentage_of_sentences/100*len(test_sentences))\n",
    "        test_sentences, y_test = test_sentences[:len_test], y_test[:len_test]\n",
    "    \n",
    "    X_train = [text_to_word_sequence(_.decode(\"utf-8\")) for _ in train_sentences]\n",
    "    X_test = [text_to_word_sequence(_.decode(\"utf-8\")) for _ in test_sentences]\n",
    "    \n",
    "    return X_train, y_train, X_test, y_test"
   ]
  },
  {
   "cell_type": "code",
   "execution_count": 3,
   "metadata": {},
   "outputs": [
    {
     "name": "stdout",
     "output_type": "stream",
     "text": [
      "WARNING:tensorflow:From D:\\Programs\\JupyterNotebook\\env311\\Lib\\site-packages\\tensorflow_datasets\\core\\dataset_builder.py:918: The name tf.data.get_output_shapes is deprecated. Please use tf.compat.v1.data.get_output_shapes instead.\n",
      "\n"
     ]
    },
    {
     "name": "stderr",
     "output_type": "stream",
     "text": [
      "WARNING:tensorflow:From D:\\Programs\\JupyterNotebook\\env311\\Lib\\site-packages\\tensorflow_datasets\\core\\dataset_builder.py:918: The name tf.data.get_output_shapes is deprecated. Please use tf.compat.v1.data.get_output_shapes instead.\n",
      "\n"
     ]
    }
   ],
   "source": [
    "X_train, y_train, X_test, y_test = load_data(percentage_of_sentences=10)"
   ]
  },
  {
   "cell_type": "code",
   "execution_count": 4,
   "metadata": {},
   "outputs": [
    {
     "name": "stdout",
     "output_type": "stream",
     "text": [
      "0 ['this', 'was', 'an', 'absolutely', 'terrible', 'movie', \"don't\", 'be', 'lured', 'in', 'by', 'christopher', 'walken', 'or', 'michael', 'ironside', 'both', 'are', 'great', 'actors', 'but', 'this', 'must', 'simply', 'be', 'their', 'worst', 'role', 'in', 'history', 'even', 'their', 'great', 'acting', 'could', 'not', 'redeem', 'this', \"movie's\", 'ridiculous', 'storyline', 'this', 'movie', 'is', 'an', 'early', 'nineties', 'us', 'propaganda', 'piece', 'the', 'most', 'pathetic', 'scenes', 'were', 'those', 'when', 'the', 'columbian', 'rebels', 'were', 'making', 'their', 'cases', 'for', 'revolutions', 'maria', 'conchita', 'alonso', 'appeared', 'phony', 'and', 'her', 'pseudo', 'love', 'affair', 'with', 'walken', 'was', 'nothing', 'but', 'a', 'pathetic', 'emotional', 'plug', 'in', 'a', 'movie', 'that', 'was', 'devoid', 'of', 'any', 'real', 'meaning', 'i', 'am', 'disappointed', 'that', 'there', 'are', 'movies', 'like', 'this', 'ruining', \"actor's\", 'like', 'christopher', \"walken's\", 'good', 'name', 'i', 'could', 'barely', 'sit', 'through', 'it']\n",
      "0 [\"i'll\", 'give', 'it', 'a', 'two', 'because', 'it', 'has', 'a', 'lot', 'of', 'music', 'otherwise', 'it', 'would', 'be', 'a', 'one', 'br', 'br', 'i', 'saw', 'this', 'movie', 'for', 'the', 'first', 'time', 'tonight', 'and', \"it's\", 'the', 'first', 'road', 'picture', \"i've\", 'seen', 'i', 'was', 'expecting', 'waaaaay', 'better', 'robert', 'osborn', 'says', 'this', 'is', 'the', 'best', 'of', 'the', 'road', 'movies', 'if', \"that's\", 'true', 'i', \"needn't\", 'bother', 'to', 'see', 'the', 'others', 'the', 'best', 'thing', 'about', 'this', 'movie', 'is', 'that', 'it', 'has', 'a', 'lot', 'of', 'songs', 'in', 'the', 'first', 'half', 'but', \"that's\", 'balanced', 'out', 'by', 'only', 'one', 'production', 'number', 'with', 'dancing', 'in', 'the', 'entire', 'movie', 'br', 'br', 'i', \"didn't\", 'like', 'the', 'movie', 'neither', 'hope', 'nor', 'crosby', 'came', 'across', 'all', 'that', 'well', 'their', 'characters', \"weren't\", 'very', 'charming', 'the', 'movie', 'was', 'not', 'funny', 'at', 'all', 'most', 'of', 'the', 'dialog', 'was', 'just', 'lame', 'filler', 'there', \"wasn't\", 'much', 'action', 'there', \"wasn't\", 'much', 'spectacle', 'br', 'br', 'the', 'movie', \"wasn't\", 'what', 'i', 'expected', 'i', 'was', 'expecting', 'more', 'road', 'but', 'there', \"isn't\", 'much', 'they', 'quickly', 'make', 'it', 'to', 'the', 'palace', 'and', 'then', 'most', 'of', 'the', 'movie', 'takes', 'place', 'there', 'until', 'the', 'end', 'i', 'was', 'also', 'expecting', 'a', 'lot', 'more', 'of', 'the', 'famous', 'road', 'style', 'of', 'breaking', 'the', 'fourth', 'wall', 'wherein', 'the', 'characters', 'talk', 'directly', 'to', 'the', 'audience', 'or', 'comment', 'on', 'the', 'plot', 'there', 'was', 'only', 'about', '4', 'instances', 'of', 'that', 'one', 'of', 'those', 'is', 'an', 'example', 'of', 'the', 'non', 'funny', 'humor', 'of', 'this', 'script', 'br', 'br', 'hope', 'recaps', 'the', 'plot', 'up', 'to', 'now', 'to', 'crosby', 'crosby', 'i', 'know', 'all', 'that', 'hope', 'yeah', 'but', 'the', 'people', 'that', 'came', 'in', 'half', 'way', 'through', 'the', 'picture', \"don't\", 'crosby', 'you', 'mean', 'they', 'missed', 'my', 'song', 'br', 'br', 'those', 'are', 'two', 'weak', 'punchlines', 'but', 'at', 'least', 'they', 'are', 'actually', 'jokes', 'much', 'of', 'the', 'rest', 'of', 'the', 'script', \"doesn't\", 'even', 'have', 'any', 'jokes', 'an', 'example', 'is', 'br', 'br', 'crosby', 'remind', 'me', 'to', 'throw', 'you', 'a', 'piece', 'of', 'cheese', 'in', 'the', 'morning', 'indirectly', 'calling', 'hope', 'a', 'rat', 'br', 'br', \"that's\", 'not', 'funny', 'at', 'all', 'it', 'barely', 'even', 'qualifies', 'as', 'a', 'joke', 'but', \"that's\", 'the', 'kind', 'of', 'non', 'joke', 'dialog', 'that', 'carries', 'most', 'of', 'the', 'movie', 'many', 'of', 'the', 'scenes', \"don't\", 'even', 'come', 'that', 'close', 'to', 'a', 'joke', 'just', 'using', 'generic', 'uninteresting', 'dialog', 'like', 'br', 'br', 'crosby', 'hey', 'whadda', \"ya'\", 'take', 'me', 'for', 'you', 'think', 'that', 'you', 'can', 'just', 'throw', 'me', 'to', 'the', 'dogs', 'hope', 'well', 'why', 'not', 'you', 'did', 'it', 'to', 'me', \"didn't\", 'you', 'crosby', 'yeah', 'but', \"that's\", 'because', 'i', 'was', \"lookin'\", 'out', 'for', 'us', \"you're\", 'not', \"lookin'\", 'out', 'for', 'nobody', 'hope', 'oh', 'yeah', 'well', 'then', 'why', 'did', 'i', 'pay', 'the', 'check', 'br', 'br', 'the', 'above', 'is', 'just', 'from', 'my', 'memory', \"it's\", 'not', 'exact', 'but', 'it', 'illustrates', 'to', 'you', 'what', 'i', 'mean', 'br', 'br', 'and', 'so', 'on', 'just', 'generic', 'dialog', 'with', 'no', 'jokes', 'at', 'all', 'br', 'br', 'my', 'grade', 'a', 'waste', 'of', 'time']\n"
     ]
    }
   ],
   "source": [
    "print(y_train[0], X_train[0])\n",
    "print(y_test[10], X_test[10])"
   ]
  },
  {
   "cell_type": "code",
   "execution_count": 5,
   "metadata": {},
   "outputs": [],
   "source": [
    "# This initializes a Keras utilities that does all the tokenization for you\n",
    "tokenizer = Tokenizer()\n",
    "\n",
    "# The tokenization learns a dictionary that maps a token (integer) to each word\n",
    "# It can be done only on the train set - we are not supposed to know the test set!\n",
    "# This tokenization also lowercases your words, apply some filters, and so on - you can check the doc if you want\n",
    "tokenizer.fit_on_texts(X_train)\n",
    "    \n",
    "# We apply the tokenization to the train and test set\n",
    "X_train_token = tokenizer.texts_to_sequences(X_train)\n",
    "X_test_token = tokenizer.texts_to_sequences(X_test)"
   ]
  },
  {
   "cell_type": "markdown",
   "metadata": {},
   "source": [
    "Print some of the tokenized sentences to be sure you got what you expected"
   ]
  },
  {
   "cell_type": "code",
   "execution_count": 6,
   "metadata": {
    "scrolled": false
   },
   "outputs": [
    {
     "name": "stdout",
     "output_type": "stream",
     "text": [
      "Word : i -> Token 9\n",
      "Word : enjoyed -> Token 579\n",
      "Word : this -> Token 11\n",
      "Word : movie -> Token 18\n",
      "Word : and -> Token 3\n",
      "Word : after -> Token 104\n",
      "Word : watching -> Token 155\n",
      "Word : it -> Token 10\n",
      "Word : it -> Token 10\n",
      "Word : made -> Token 90\n",
      "Word : me -> Token 65\n",
      "Word : wonder -> Token 574\n",
      "Word : just -> Token 40\n",
      "Word : how -> Token 84\n",
      "Word : many -> Token 107\n",
      "Word : 'caitlin -> Token 17238\n",
      "Word : rose's' -> Token 17239\n",
      "Word : exist -> Token 1632\n",
      "Word : in -> Token 8\n",
      "Word : the -> Token 1\n",
      "Word : world -> Token 189\n",
      "Word : how -> Token 84\n",
      "Word : many -> Token 107\n",
      "Word : other -> Token 82\n",
      "Word : girls -> Token 526\n",
      "Word : have -> Token 25\n",
      "Word : been -> Token 76\n",
      "Word : subjected -> Token 5574\n",
      "Word : to -> Token 5\n",
      "Word : this -> Token 11\n",
      "Word : sort -> Token 406\n",
      "Word : of -> Token 4\n",
      "Word : sexual -> Token 991\n",
      "Word : abuse -> Token 2393\n",
      "Word : and -> Token 3\n",
      "Word : torment -> Token 8200\n",
      "Word : by -> Token 31\n",
      "Word : classmates -> Token 7069\n",
      "Word : and -> Token 3\n",
      "Word : have -> Token 25\n"
     ]
    }
   ],
   "source": [
    "sentence_number = 100\n",
    "\n",
    "input_raw = X_train[sentence_number]\n",
    "input_token = X_train_token[sentence_number]\n",
    "\n",
    "for i in range(40):\n",
    "    print(f'Word : {input_raw[i]} -> Token {input_token[i]}')"
   ]
  },
  {
   "cell_type": "markdown",
   "metadata": {},
   "source": [
    "Add a vocab_size variable that stores the number of different words (=tokens) in the train set. This is called the size of the vocabulary"
   ]
  },
  {
   "cell_type": "code",
   "execution_count": 7,
   "metadata": {
    "scrolled": false,
    "tags": [
     "challengify"
    ]
   },
   "outputs": [
    {
     "name": "stdout",
     "output_type": "stream",
     "text": [
      "There are 30419 different words in the train set\n"
     ]
    }
   ],
   "source": [
    "vocab_size = len(tokenizer.word_index)\n",
    "\n",
    "print(f'There are {vocab_size} different words in the train set')"
   ]
  },
  {
   "cell_type": "markdown",
   "metadata": {},
   "source": [
    "Pad your data with the pad_sequences function"
   ]
  },
  {
   "cell_type": "code",
   "execution_count": 8,
   "metadata": {
    "tags": [
     "challengify"
    ]
   },
   "outputs": [],
   "source": [
    "X_train_pad = pad_sequences(X_train_token, dtype='float32', padding='post')\n",
    "X_test_pad = pad_sequences(X_test_token, dtype='float32', padding='post')"
   ]
  },
  {
   "cell_type": "markdown",
   "metadata": {},
   "source": [
    "# The RNN"
   ]
  },
  {
   "cell_type": "code",
   "execution_count": 9,
   "metadata": {},
   "outputs": [],
   "source": [
    "embedding_dimension = 50"
   ]
  },
  {
   "cell_type": "code",
   "execution_count": 10,
   "metadata": {},
   "outputs": [],
   "source": [
    "def initialize_rnn_model(vocab_size, embedding_dimension):\n",
    "    model = Sequential()\n",
    "    \n",
    "    model.add(layers.Embedding(\n",
    "        input_dim=vocab_size + 1,\n",
    "        output_dim=embedding_dimension,\n",
    "        mask_zero=True)\n",
    "             )\n",
    "    \n",
    "    model.add(layers.LSTM(20))\n",
    "    model.add(layers.Dense(10, activation=\"relu\"))\n",
    "    model.add(layers.Dense(1, activation=\"sigmoid\"))\n",
    "    \n",
    "    model.compile(\n",
    "        loss='binary_crossentropy',\n",
    "        optimizer='rmsprop',\n",
    "        metrics=['accuracy']\n",
    "    )\n",
    "    \n",
    "    return model"
   ]
  },
  {
   "cell_type": "code",
   "execution_count": 11,
   "metadata": {
    "scrolled": true
   },
   "outputs": [
    {
     "name": "stdout",
     "output_type": "stream",
     "text": [
      "WARNING:tensorflow:From D:\\Programs\\JupyterNotebook\\env311\\Lib\\site-packages\\keras\\src\\backend.py:873: The name tf.get_default_graph is deprecated. Please use tf.compat.v1.get_default_graph instead.\n",
      "\n"
     ]
    },
    {
     "name": "stderr",
     "output_type": "stream",
     "text": [
      "WARNING:tensorflow:From D:\\Programs\\JupyterNotebook\\env311\\Lib\\site-packages\\keras\\src\\backend.py:873: The name tf.get_default_graph is deprecated. Please use tf.compat.v1.get_default_graph instead.\n",
      "\n"
     ]
    },
    {
     "name": "stdout",
     "output_type": "stream",
     "text": [
      "WARNING:tensorflow:From D:\\Programs\\JupyterNotebook\\env311\\Lib\\site-packages\\keras\\src\\optimizers\\__init__.py:309: The name tf.train.Optimizer is deprecated. Please use tf.compat.v1.train.Optimizer instead.\n",
      "\n"
     ]
    },
    {
     "name": "stderr",
     "output_type": "stream",
     "text": [
      "WARNING:tensorflow:From D:\\Programs\\JupyterNotebook\\env311\\Lib\\site-packages\\keras\\src\\optimizers\\__init__.py:309: The name tf.train.Optimizer is deprecated. Please use tf.compat.v1.train.Optimizer instead.\n",
      "\n"
     ]
    }
   ],
   "source": [
    "rnn_model = initialize_rnn_model(vocab_size, embedding_dimension)"
   ]
  },
  {
   "cell_type": "code",
   "execution_count": 12,
   "metadata": {
    "scrolled": true
   },
   "outputs": [
    {
     "name": "stdout",
     "output_type": "stream",
     "text": [
      "Model: \"sequential\"\n",
      "_________________________________________________________________\n",
      " Layer (type)                Output Shape              Param #   \n",
      "=================================================================\n",
      " embedding (Embedding)       (None, None, 50)          1521000   \n",
      "                                                                 \n",
      " lstm (LSTM)                 (None, 20)                5680      \n",
      "                                                                 \n",
      " dense (Dense)               (None, 10)                210       \n",
      "                                                                 \n",
      " dense_1 (Dense)             (None, 1)                 11        \n",
      "                                                                 \n",
      "=================================================================\n",
      "Total params: 1526901 (5.82 MB)\n",
      "Trainable params: 1526901 (5.82 MB)\n",
      "Non-trainable params: 0 (0.00 Byte)\n",
      "_________________________________________________________________\n"
     ]
    }
   ],
   "source": [
    "rnn_model.summary()"
   ]
  },
  {
   "cell_type": "markdown",
   "metadata": {},
   "source": [
    "Double-check that the number of parameters in your embedding layer is equal to the (number of words in your vocabulary + 1 for the masking value) × the dimension of your embedding."
   ]
  },
  {
   "cell_type": "code",
   "execution_count": 13,
   "metadata": {},
   "outputs": [
    {
     "name": "stdout",
     "output_type": "stream",
     "text": [
      "Expected number of parameters : 1521000\n"
     ]
    }
   ],
   "source": [
    "print(f'Expected number of parameters : {(vocab_size + 1) * embedding_dimension}')"
   ]
  },
  {
   "cell_type": "markdown",
   "metadata": {},
   "source": [
    " Start fitting your model with 20 epochs, with an early stopping criterion whose patience is equal to 4"
   ]
  },
  {
   "cell_type": "code",
   "execution_count": 14,
   "metadata": {
    "scrolled": false,
    "tags": [
     "challengify"
    ]
   },
   "outputs": [
    {
     "name": "stdout",
     "output_type": "stream",
     "text": [
      "Epoch 1/20\n",
      "WARNING:tensorflow:From D:\\Programs\\JupyterNotebook\\env311\\Lib\\site-packages\\keras\\src\\utils\\tf_utils.py:492: The name tf.ragged.RaggedTensorValue is deprecated. Please use tf.compat.v1.ragged.RaggedTensorValue instead.\n",
      "\n"
     ]
    },
    {
     "name": "stderr",
     "output_type": "stream",
     "text": [
      "WARNING:tensorflow:From D:\\Programs\\JupyterNotebook\\env311\\Lib\\site-packages\\keras\\src\\utils\\tf_utils.py:492: The name tf.ragged.RaggedTensorValue is deprecated. Please use tf.compat.v1.ragged.RaggedTensorValue instead.\n",
      "\n"
     ]
    },
    {
     "name": "stdout",
     "output_type": "stream",
     "text": [
      "WARNING:tensorflow:From D:\\Programs\\JupyterNotebook\\env311\\Lib\\site-packages\\keras\\src\\engine\\base_layer_utils.py:384: The name tf.executing_eagerly_outside_functions is deprecated. Please use tf.compat.v1.executing_eagerly_outside_functions instead.\n",
      "\n"
     ]
    },
    {
     "name": "stderr",
     "output_type": "stream",
     "text": [
      "WARNING:tensorflow:From D:\\Programs\\JupyterNotebook\\env311\\Lib\\site-packages\\keras\\src\\engine\\base_layer_utils.py:384: The name tf.executing_eagerly_outside_functions is deprecated. Please use tf.compat.v1.executing_eagerly_outside_functions instead.\n",
      "\n"
     ]
    },
    {
     "name": "stdout",
     "output_type": "stream",
     "text": [
      "110/110 [==============================] - 73s 557ms/step - loss: 0.6890 - accuracy: 0.5571 - val_loss: 0.6751 - val_accuracy: 0.5840\n",
      "Epoch 2/20\n",
      "110/110 [==============================] - 58s 529ms/step - loss: 0.5895 - accuracy: 0.7194 - val_loss: 0.5376 - val_accuracy: 0.7240\n",
      "Epoch 3/20\n",
      "110/110 [==============================] - 58s 525ms/step - loss: 0.3600 - accuracy: 0.8623 - val_loss: 0.8424 - val_accuracy: 0.5600\n",
      "Epoch 4/20\n",
      "110/110 [==============================] - 57s 522ms/step - loss: 0.2165 - accuracy: 0.9200 - val_loss: 0.4280 - val_accuracy: 0.8080\n",
      "Epoch 5/20\n",
      "110/110 [==============================] - 58s 524ms/step - loss: 0.0967 - accuracy: 0.9726 - val_loss: 0.5422 - val_accuracy: 0.8347\n",
      "Epoch 6/20\n",
      "110/110 [==============================] - 58s 525ms/step - loss: 0.0714 - accuracy: 0.9829 - val_loss: 0.5438 - val_accuracy: 0.8253\n",
      "Epoch 7/20\n",
      "110/110 [==============================] - 58s 525ms/step - loss: 0.0182 - accuracy: 0.9960 - val_loss: 2.1444 - val_accuracy: 0.6840\n",
      "Epoch 8/20\n",
      "110/110 [==============================] - 58s 527ms/step - loss: 0.0434 - accuracy: 0.9914 - val_loss: 0.7506 - val_accuracy: 0.8213\n"
     ]
    },
    {
     "data": {
      "text/plain": [
       "<keras.src.callbacks.History at 0x1cdbdbe1950>"
      ]
     },
     "execution_count": 14,
     "metadata": {},
     "output_type": "execute_result"
    }
   ],
   "source": [
    "es = EarlyStopping(patience=4, restore_best_weights=True)\n",
    "\n",
    "rnn_model.fit(\n",
    "    X_train_pad,\n",
    "    y_train, \n",
    "    epochs=20, \n",
    "    batch_size=16,\n",
    "    validation_split=0.3,\n",
    "    callbacks=[es]\n",
    ")"
   ]
  },
  {
   "cell_type": "code",
   "execution_count": 15,
   "metadata": {
    "scrolled": false
   },
   "outputs": [
    {
     "data": {
      "image/png": "[encoded data removed]",
      "text/plain": [
       "<Figure size 640x480 with 1 Axes>"
      ]
     },
     "metadata": {},
     "output_type": "display_data"
    }
   ],
   "source": [
    "def plot_hist(X):\n",
    "    len_ = [len(_) for _ in X]\n",
    "    plt.hist(len_)\n",
    "    plt.title('Histogram of the number of sentences that have a given number of words')\n",
    "    plt.grid(True)\n",
    "    plt.show()\n",
    "    \n",
    "plot_hist(X_train)"
   ]
  },
  {
   "cell_type": "markdown",
   "metadata": {},
   "source": [
    "But what if you pad the data to a maximum length (maxlen) of say 200 (words)?"
   ]
  },
  {
   "cell_type": "code",
   "execution_count": 16,
   "metadata": {},
   "outputs": [],
   "source": [
    "X_train_pad = pad_sequences(X_train_token, dtype='float32', padding='post', maxlen=200)\n",
    "X_test_pad = pad_sequences(X_test_token, dtype='float32', padding='post', maxlen=200)"
   ]
  },
  {
   "cell_type": "code",
   "execution_count": 17,
   "metadata": {},
   "outputs": [
    {
     "name": "stdout",
     "output_type": "stream",
     "text": [
      "Epoch 1/20\n",
      "110/110 [==============================] - 21s 134ms/step - loss: 0.1134 - accuracy: 0.9674 - val_loss: 0.6296 - val_accuracy: 0.7707\n",
      "Epoch 2/20\n",
      "110/110 [==============================] - 11s 100ms/step - loss: 0.0496 - accuracy: 0.9869 - val_loss: 0.5670 - val_accuracy: 0.8093\n",
      "Epoch 3/20\n",
      "110/110 [==============================] - 11s 99ms/step - loss: 0.0262 - accuracy: 0.9931 - val_loss: 1.0197 - val_accuracy: 0.7787\n",
      "Epoch 4/20\n",
      "110/110 [==============================] - 11s 99ms/step - loss: 0.0230 - accuracy: 0.9960 - val_loss: 0.7710 - val_accuracy: 0.8053\n",
      "Epoch 5/20\n",
      "110/110 [==============================] - 11s 99ms/step - loss: 0.0045 - accuracy: 0.9989 - val_loss: 0.8052 - val_accuracy: 0.7947\n",
      "Epoch 6/20\n",
      "110/110 [==============================] - 11s 99ms/step - loss: 7.5740e-04 - accuracy: 1.0000 - val_loss: 1.1541 - val_accuracy: 0.7920\n"
     ]
    },
    {
     "data": {
      "text/plain": [
       "<keras.src.callbacks.History at 0x1cdc560e390>"
      ]
     },
     "execution_count": 17,
     "metadata": {},
     "output_type": "execute_result"
    }
   ],
   "source": [
    "rnn_model.fit(\n",
    "    X_train_pad,\n",
    "    y_train, \n",
    "    epochs=20, \n",
    "    batch_size=16,\n",
    "    validation_split=0.3,\n",
    "    callbacks=[es]\n",
    ")"
   ]
  }
 ],
 "metadata": {
  "kernelspec": {
   "display_name": "Python 3 (ipykernel)",
   "language": "python",
   "name": "python3"
  },
  "language_info": {
   "codemirror_mode": {
    "name": "ipython",
    "version": 3
   },
   "file_extension": ".py",
   "mimetype": "text/x-python",
   "name": "python",
   "nbconvert_exporter": "python",
   "pygments_lexer": "ipython3",
   "version": "3.11.6"
  },
  "toc": {
   "base_numbering": 1,
   "nav_menu": {},
   "number_sections": true,
   "sideBar": true,
   "skip_h1_title": false,
   "title_cell": "Table of Contents",
   "title_sidebar": "Contents",
   "toc_cell": false,
   "toc_position": {},
   "toc_section_display": true,
   "toc_window_display": false
  }
 },
 "nbformat": 4,
 "nbformat_minor": 4
}
